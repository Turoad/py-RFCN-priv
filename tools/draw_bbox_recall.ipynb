{
 "cells": [
  {
   "cell_type": "code",
   "execution_count": 129,
   "metadata": {},
   "outputs": [
    {
     "name": "stdout",
     "output_type": "stream",
     "text": [
      "[0.8666, 0.8387, 0.8072, 0.7641, 0.6845, 0.5567, 0.366, 0.1621, 0.0405, 0.0065, 0.0]\n"
     ]
    },
    {
     "data": {
      "image/png": "[encoded data removed]",
      "text/plain": [
       "<matplotlib.figure.Figure at 0x7fad55be3350>"
      ]
     },
     "metadata": {},
     "output_type": "display_data"
    }
   ],
   "source": [
    "%matplotlib inline\n",
    "import matplotlib.pyplot as plt\n",
    "import numpy as np\n",
    "# x = [i/10. for i in range(5, 11)]\n",
    "# y = [0.867, 0.807, 0.685, 0.366, 0.040, 0]\n",
    "x = [0.5,  0.55,  0.6, 0.65,  0.7, 0.75, 0.8, 0.85,  0.9, 0.95, 1.0]\n",
    "y = [0.8666, 0.8387, 0.8072, 0.7641, 0.6845, 0.5567, 0.3660, 0.1621, 0.0405, 0.0065,0.0]\n",
    "print y\n",
    "# y = [0.855, 0.84, 0.835, 0.815, 0.81]\n",
    "# y1=[0.86,0.85,0.853,0.849,0.83]\n",
    "plt.plot(x, y, 'r--', linewidth=2, label = 'RPN')\n",
    "#plt.plot(x, y1, 'bo-')\n",
    "plt.xlim(0.5, 1)  # 限定横轴的范围\n",
    "plt.ylim(0, 1)  # 限定纵轴的范围\n",
    "# plt.plot(x, y, marker='o', mec='r', mfc='w',label='y=x^2')\n",
    "# plt.plot(x, y1, marker='*', ms=10,label=u'y=x^3曲线图')\n",
    "plt.legend()  # 让图例生效\n",
    "# plt.xticks(x, names, rotation=45)\n",
    "# plt.margins(0)\n",
    "# plt.subplots_adjust(bottom=0.15)\n",
    "plt.xlabel(\"IoU\") #X轴标签\n",
    "plt.ylabel(\"Recall\") #Y轴标签\n",
    "plt.title(\"300 proposals\") #标题\n",
    "\n",
    "plt.show()\n"
   ]
  },
  {
   "cell_type": "code",
   "execution_count": 113,
   "metadata": {},
   "outputs": [],
   "source": [
    "from scipy import optimize  \n",
    "#直线方程函数  \n",
    "def f_1(x, A, B):  \n",
    "    return A*x + B  \n",
    "  \n",
    "#二次曲线方程  \n",
    "def f_2(x, A, B, C):  \n",
    "    return A*x*x + B*x + C  \n",
    "  \n",
    "#三次曲线方程  \n",
    "def f_3(x, A, B, C, D):  \n",
    "    return A*x*x*x + B*x*x + C*x + D  \n",
    "\n",
    "#四次曲线方程  \n",
    "def f_4(x, A, B, C, D, E):  \n",
    "    return A*x*x*x*x + B*x*x*x + C*x*x + D*x+E  \n",
    "\n",
    "def f_5(x, A, B, C, D, E, F):  \n",
    "    return A*x*x*x*x*x + B*x*x*x*x + C*x*x*x + D*x*x+E*x+F  \n",
    "\n",
    "def plot_test():  \n",
    "  \n",
    "    plt.figure()  \n",
    "  \n",
    "    #拟合点  \n",
    "    x0 = [0.5,  0.55,  0.6, 0.65,  0.7, 0.75, 0.8, 0.85,  0.9, 0.95, 1.0]\n",
    "    y0 = [0.8666, 0.8387, 0.8072, 0.7641, 0.6845, 0.5567, 0.3660, 0.1621, 0.0405, 0.0065,0.0]\n",
    "\n",
    "\n",
    "    #绘制散点  \n",
    "    plt.scatter(x0[:], y0[:], 10, \"red\")  \n",
    "    plt.xlim(0.5, 1)  # 限定横轴的范围\n",
    "    plt.ylim(0, 1)  # 限定纵轴的范围\n",
    "    \n",
    "#     #直线拟合与绘制  \n",
    "#     A1, B1 = optimize.curve_fit(f_1, x0, y0)[0]  \n",
    "#     x1 = np.arange(0.5, 1.1, 0.1)\n",
    "#     y1 = A1*x1 + B1  \n",
    "#     plt.plot(x1, y1, \"blue\")  \n",
    "    \n",
    "#     #二次曲线拟合与绘制  \n",
    "#     A2, B2, C2 = optimize.curve_fit(f_2, x0, y0)[0]  \n",
    "#     x2 = np.arange(0.5, 1.1, 0.1)  \n",
    "#     y2 = A2*x2*x2 + B2*x2 + C2   \n",
    "#     plt.plot(x2, y2, \"green\")  \n",
    "  \n",
    "#     #三次曲线拟合与绘制  \n",
    "#     A3, B3, C3, D3= optimize.curve_fit(f_3, x0, y0)[0]  \n",
    "#     x3 = np.arange(0.5, 1.05, 0.05)  \n",
    "#     y3 = A3*x3*x3*x3 + B3*x3*x3 + C3*x3 + D3   \n",
    "#     plt.plot(x3, y3, \"r\")  \n",
    "    \n",
    "#     #四次曲线拟合与绘制  \n",
    "#     A4, B4, C4, D4, E4 = optimize.curve_fit(f_4, x0, y0)[0]  \n",
    "#     x4 = np.arange(0.5, 1.02, 0.02)\n",
    "#     print x4\n",
    "#     y4 = A4*x4*x4*x4*x4 + B4*x4*x4*x4 + C4*x4*x4 + D4*x4 + E4 \n",
    "#     plt.plot(x4, y4, \"r\", linewidth=2)\n",
    "      \n",
    "    #五次曲线拟合与绘制  \n",
    "    A5, B5, C5, D5, E5, F5 = optimize.curve_fit(f_5, x0, y0)[0]  \n",
    "    x5 = np.arange(0.5, 1.01, 0.01)\n",
    "    #print x4\n",
    "    y5 = A5*x5*x5*x5*x5*x5 + B5*x5*x5*x5*x5 + C5*x5*x5*x5 + D5*x5*x5 + E5*x5+F5 \n",
    "    plt.plot(x5, y5, \"r\", linewidth=2)\n",
    "    \n",
    "    plt.title(\"test\")  \n",
    "    plt.xlabel('x')  \n",
    "    plt.ylabel('y')  \n",
    "  \n",
    "    plt.show()  \n",
    "  \n",
    "    return  "
   ]
  },
  {
   "cell_type": "code",
   "execution_count": 114,
   "metadata": {
    "scrolled": true
   },
   "outputs": [
    {
     "data": {
      "image/png": "[encoded data removed]",
      "text/plain": [
       "<matplotlib.figure.Figure at 0x7fad4fc60410>"
      ]
     },
     "metadata": {},
     "output_type": "display_data"
    }
   ],
   "source": [
    "plot_test()"
   ]
  },
  {
   "cell_type": "code",
   "execution_count": null,
   "metadata": {},
   "outputs": [],
   "source": []
  }
 ],
 "metadata": {
  "kernelspec": {
   "display_name": "Python 2",
   "language": "python",
   "name": "python2"
  },
  "language_info": {
   "codemirror_mode": {
    "name": "ipython",
    "version": 2
   },
   "file_extension": ".py",
   "mimetype": "text/x-python",
   "name": "python",
   "nbconvert_exporter": "python",
   "pygments_lexer": "ipython2",
   "version": "2.7.14"
  }
 },
 "nbformat": 4,
 "nbformat_minor": 2
}
