{
 "cells": [
  {
   "cell_type": "code",
   "execution_count": 24,
   "metadata": {},
   "outputs": [
    {
     "name": "stdout",
     "output_type": "stream",
     "text": [
      "[0.867, 0.807, 0.685, 0.366, 0.04, 0]\n"
     ]
    },
    {
     "data": {
      "image/png": "[encoded data removed]",
      "text/plain": [
       "<matplotlib.figure.Figure at 0x7fad6004b110>"
      ]
     },
     "metadata": {},
     "output_type": "display_data"
    }
   ],
   "source": [
    "%matplotlib inline\n",
    "import matplotlib.pyplot as plt\n",
    "import numpy as np\n",
    "x = [i/10. for i in range(5, 11)]\n",
    "y = [0.867, 0.807, 0.685, 0.366, 0.040, 0]\n",
    "print y\n",
    "# y = [0.855, 0.84, 0.835, 0.815, 0.81]\n",
    "# y1=[0.86,0.85,0.853,0.849,0.83]\n",
    "plt.plot(x, y, 'r')\n",
    "#plt.plot(x, y1, 'bo-')\n",
    "plt.xlim(0.5, 1)  # 限定横轴的范围\n",
    "plt.ylim(0, 1)  # 限定纵轴的范围\n",
    "# plt.plot(x, y, marker='o', mec='r', mfc='w',label=u'y=x^2曲线图')\n",
    "# plt.plot(x, y1, marker='*', ms=10,label=u'y=x^3曲线图')\n",
    "# plt.legend()  # 让图例生效\n",
    "# plt.xticks(x, names, rotation=45)\n",
    "# plt.margins(0)\n",
    "# plt.subplots_adjust(bottom=0.15)\n",
    "# plt.xlabel(u\"time(s)邻居\") #X轴标签\n",
    "# plt.ylabel(\"RMSE\") #Y轴标签\n",
    "# plt.title(\"A simple plot\") #标题\n",
    "\n",
    "plt.show()\n"
   ]
  },
  {
   "cell_type": "code",
   "execution_count": 32,
   "metadata": {},
   "outputs": [],
   "source": [
    "from scipy import optimize  \n",
    "#直线方程函数  \n",
    "def f_1(x, A, B):  \n",
    "    return A*x + B  \n",
    "  \n",
    "#二次曲线方程  \n",
    "def f_2(x, A, B, C):  \n",
    "    return A*x*x + B*x + C  \n",
    "  \n",
    "#三次曲线方程  \n",
    "def f_3(x, A, B, C, D):  \n",
    "    return A*x*x*x + B*x*x + C*x + D  \n",
    "\n",
    "def plot_test():  \n",
    "  \n",
    "    plt.figure()  \n",
    "  \n",
    "    #拟合点  \n",
    "    x0 = [0.5, 0.6, 0.7, 0.8, 0.9, 1.0]\n",
    "    y0 = [0.867, 0.807, 0.685, 0.366, 0.040, 0]\n",
    "  \n",
    "    #绘制散点  \n",
    "    plt.scatter(x0[:], y0[:], 25, \"red\")  \n",
    "  \n",
    "    #直线拟合与绘制  \n",
    "    A1, B1 = optimize.curve_fit(f_1, x0, y0)[0]  \n",
    "    x1 = np.arange(0, 6, 0.01)\n",
    "    y1 = A1*x1 + B1  \n",
    "    plt.plot(x1, y1, \"blue\")  \n",
    "  \n",
    "    #二次曲线拟合与绘制  \n",
    "    A2, B2, C2 = optimize.curve_fit(f_2, x0, y0)[0]  \n",
    "    x2 = np.arange(0, 6, 0.01)  \n",
    "    y2 = A2*x2*x2 + B2*x2 + C2   \n",
    "    plt.plot(x2, y2, \"green\")  \n",
    "  \n",
    "    #三次曲线拟合与绘制  \n",
    "    A3, B3, C3, D3= optimize.curve_fit(f_3, x0, y0)[0]  \n",
    "    x3 = np.arange(0, 6, 0.01)  \n",
    "    y3 = A3*x3*x3*x3 + B3*x3*x3 + C3*x3 + D3   \n",
    "    plt.plot(x3, y3, \"purple\")  \n",
    "  \n",
    "    plt.title(\"test\")  \n",
    "    plt.xlabel('x')  \n",
    "    plt.ylabel('y')  \n",
    "  \n",
    "    plt.show()  \n",
    "  \n",
    "    return  "
   ]
  },
  {
   "cell_type": "code",
   "execution_count": 33,
   "metadata": {},
   "outputs": [
    {
     "data": {
      "image/png": "[encoded data removed]",
      "text/plain": [
       "<matplotlib.figure.Figure at 0x7fad55b49fd0>"
      ]
     },
     "metadata": {},
     "output_type": "display_data"
    }
   ],
   "source": [
    "plot_test()"
   ]
  },
  {
   "cell_type": "code",
   "execution_count": null,
   "metadata": {},
   "outputs": [],
   "source": []
  }
 ],
 "metadata": {
  "kernelspec": {
   "display_name": "Python 2",
   "language": "python",
   "name": "python2"
  },
  "language_info": {
   "codemirror_mode": {
    "name": "ipython",
    "version": 2
   },
   "file_extension": ".py",
   "mimetype": "text/x-python",
   "name": "python",
   "nbconvert_exporter": "python",
   "pygments_lexer": "ipython2",
   "version": "2.7.14"
  }
 },
 "nbformat": 4,
 "nbformat_minor": 2
}
